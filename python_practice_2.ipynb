{
 "nbformat": 4,
 "nbformat_minor": 0,
 "metadata": {
  "colab": {
   "provenance": []
  },
  "kernelspec": {
   "name": "python3",
   "language": "python",
   "display_name": "Python 3 (ipykernel)"
  },
  "language_info": {
   "name": "python"
  }
 },
 "cells": [
  {
   "cell_type": "markdown",
   "source": [
    "# I. Змінні та памʼять."
   ],
   "metadata": {
    "id": "p9wwt0LZzNvn"
   }
  },
  {
   "cell_type": "markdown",
   "source": [
    "1. Створити змінні, що посилаються на два цілих числа, що однакові за значенням, де значення належить проміжку від -5 до 256. Перевірте, чи будуть ці змінні рівні тільки за значенням або ж ще будуть посилатися на один і той самий обʼєкт в памʼяті? Наведіть код та дайте текстову відповідь нижче."
   ],
   "metadata": {
    "id": "HTJrrm95xSV9"
   }
  },
  {
   "cell_type": "code",
   "execution_count": 1,
   "metadata": {
    "id": "TATni2vzayjG",
    "ExecuteTime": {
     "end_time": "2024-03-31T14:29:36.342925Z",
     "start_time": "2024-03-31T14:29:36.336636Z"
    }
   },
   "outputs": [
    {
     "name": "stdout",
     "output_type": "stream",
     "text": [
      "True\n"
     ]
    }
   ],
   "source": [
    "n = 61\n",
    "m = 61\n",
    "print(n is m)  # Check if variables refer to the same object"
   ]
  },
  {
   "cell_type": "markdown",
   "source": [
    "In Python, integers in the range from -5 to 256 are cached, meaning that for each number in this range, only one object is created in memory, and all variables with the same value will refer to the same object."
   ],
   "metadata": {
    "id": "zfRG_o3WbRdg"
   }
  },
  {
   "cell_type": "markdown",
   "source": [
    "2. За допомогою якої функції можна перевірити належність змінної до вказаного типу даних (напр. чи змінна True посилається на значення булевого та цілочисленого типу)?"
   ],
   "metadata": {
    "id": "ISORzt6M3vAt"
   }
  },
  {
   "cell_type": "code",
   "source": [
    "t = True\n",
    "print(isinstance(t, bool))\n",
    "print(isinstance(t, int))  # True, because the boolean type is inherited from the integer type"
   ],
   "metadata": {
    "id": "9vL9CFaMbfyo",
    "ExecuteTime": {
     "end_time": "2024-03-31T14:32:36.313619Z",
     "start_time": "2024-03-31T14:32:36.304549Z"
    }
   },
   "execution_count": 2,
   "outputs": [
    {
     "name": "stdout",
     "output_type": "stream",
     "text": [
      "True\n",
      "True\n"
     ]
    }
   ]
  },
  {
   "cell_type": "markdown",
   "source": [
    "# II. Цілі числа та числа з рухомою комою"
   ],
   "metadata": {
    "id": "tRxugKAxwYLw"
   }
  },
  {
   "cell_type": "markdown",
   "source": [
    "3. Створити дві змінні, що посилаються на будь-які ціле число та число з рухомою комою та продемонструвати такі арифметичні операції: додавання, віднімання, ділення, множення, ділення без залишку, ділення по модулю, приведення до ступеню. Всі результати операцій вивести на екран."
   ],
   "metadata": {
    "id": "NLHkgd5Gybc8"
   }
  },
  {
   "cell_type": "code",
   "source": [
    "int_num = 2\n",
    "float_num = 2.5\n",
    "\n",
    "print(\"Addition = \", int_num + float_num)\n",
    "print(\"Subtraction = \", int_num - float_num)\n",
    "print(\"Multiplication = \", int_num * float_num)\n",
    "print(\"Division = \", int_num / float_num)\n",
    "print(\"Division without remainder = \", int_num // float_num)\n",
    "print(\"Modulo division = \", int_num % float_num)\n",
    "print(\"Pow = \", int_num ** float_num)"
   ],
   "metadata": {
    "id": "nb8u_3pjb2cA",
    "ExecuteTime": {
     "end_time": "2024-03-31T14:37:01.535841Z",
     "start_time": "2024-03-31T14:37:01.527436Z"
    }
   },
   "execution_count": 3,
   "outputs": [
    {
     "name": "stdout",
     "output_type": "stream",
     "text": [
      "Addition =  4.5\n",
      "Subtraction =  -0.5\n",
      "Multiplication =  5.0\n",
      "Division =  0.8\n",
      "Division without remainder =  0.0\n",
      "Modulo division =  2.0\n",
      "Pow =  5.656854249492381\n"
     ]
    }
   ]
  },
  {
   "cell_type": "markdown",
   "source": [
    "4. Використовуючи змінні з вправи 3, продемонструйте механізм явного перетворення типів, де числа з рухомою комою перетворюються на цілі числа. Також визначте змінну, що посилається на значення булевого типу і спробуйте явно привести її до цілого числа."
   ],
   "metadata": {
    "id": "1kBClKgPzZnC"
   }
  },
  {
   "cell_type": "code",
   "source": [
    "print(\"Float cast to int: \", int(float_num))\n",
    "\n",
    "true_flag = True\n",
    "false_flag = False\n",
    "print(\"Boolean cast to int: \", int(true_flag))\n",
    "print(\"Boolean cast to int: \", int(false_flag))"
   ],
   "metadata": {
    "id": "TbqJbkeUcKsD",
    "ExecuteTime": {
     "end_time": "2024-03-31T14:44:22.321193Z",
     "start_time": "2024-03-31T14:44:22.317069Z"
    }
   },
   "execution_count": 7,
   "outputs": [
    {
     "name": "stdout",
     "output_type": "stream",
     "text": [
      "Float cast to int:  2\n",
      "Boolean cast to int:  1\n",
      "Boolean cast to int:  0\n"
     ]
    }
   ]
  },
  {
   "cell_type": "markdown",
   "source": [
    "# IІІ. Рядки (String)."
   ],
   "metadata": {
    "id": "EVJ7AflwxrZi"
   }
  },
  {
   "cell_type": "markdown",
   "source": [
    "5. Створити пустий рядок двома різними способами."
   ],
   "metadata": {
    "id": "_s5ECzz9zE61"
   }
  },
  {
   "cell_type": "code",
   "source": [
    "literal_empty_string = ''\n",
    "function_empty_string = str()"
   ],
   "metadata": {
    "id": "fkZJHu9Scvc-",
    "ExecuteTime": {
     "end_time": "2024-03-31T14:45:43.554514Z",
     "start_time": "2024-03-31T14:45:43.551875Z"
    }
   },
   "execution_count": 8,
   "outputs": []
  },
  {
   "cell_type": "markdown",
   "source": [
    "6. Створити рядок з апострофом. Зробити його сирим. Вивести обидва рядка на екран."
   ],
   "metadata": {
    "id": "4Bdn9J3MzLf_"
   }
  },
  {
   "cell_type": "code",
   "source": [
    "apostrophe_string = 'Lorem ipsum dolor sit\\'s tempor incididunt ut'\n",
    "apostrophe_raw_string = r'Lorem ipsum dolor sit\\'s tempor incididunt ut'\n",
    "print(apostrophe_string)\n",
    "print(apostrophe_raw_string)"
   ],
   "metadata": {
    "id": "ivji_hsmc0GH",
    "ExecuteTime": {
     "end_time": "2024-03-31T14:52:08.356119Z",
     "start_time": "2024-03-31T14:52:08.351686Z"
    }
   },
   "execution_count": 14,
   "outputs": [
    {
     "name": "stdout",
     "output_type": "stream",
     "text": [
      "Lorem ipsum dolor sit's tempor incididunt ut\n",
      "Lorem ipsum dolor sit\\'s tempor incididunt ut\n"
     ]
    }
   ]
  },
  {
   "cell_type": "markdown",
   "source": [
    "7. Створити змінну, що буде посилатися на Ваше прізвище латинкою. Створити форматований рядок, який буде мати вигляд \"My surname is ______\", де на місці нижніх підкреслень буде Ваше прізвище зі змінної."
   ],
   "metadata": {
    "id": "bg_d8wM4z8dS"
   }
  },
  {
   "cell_type": "code",
   "source": [
    "surname = 'Kozyr'\n",
    "print(f'My surname is {surname}.')"
   ],
   "metadata": {
    "id": "kuxFgpWndACq",
    "ExecuteTime": {
     "end_time": "2024-03-31T14:53:33.146183Z",
     "start_time": "2024-03-31T14:53:33.143012Z"
    }
   },
   "execution_count": 16,
   "outputs": [
    {
     "name": "stdout",
     "output_type": "stream",
     "text": [
      "My surname is Kozyr.\n"
     ]
    }
   ]
  },
  {
   "cell_type": "markdown",
   "source": [
    "8. Маючи рядок \"My dog is crazy.\" перетворити його на список [\"my\", \"dog\", \"is\", \"crazy\"]"
   ],
   "metadata": {
    "id": "1Nc6RqvQ0hxU"
   }
  },
  {
   "cell_type": "code",
   "source": [
    "sentence = 'My dog is crazy.'\n",
    "print(sentence.split())"
   ],
   "metadata": {
    "id": "w1Ya4RqedUhw",
    "ExecuteTime": {
     "end_time": "2024-03-31T14:55:54.099964Z",
     "start_time": "2024-03-31T14:55:54.095275Z"
    }
   },
   "execution_count": 20,
   "outputs": [
    {
     "name": "stdout",
     "output_type": "stream",
     "text": [
      "['My', 'dog', 'is', 'crazy.']\n"
     ]
    }
   ]
  },
  {
   "cell_type": "markdown",
   "source": [
    "# IV. Робота зі списками."
   ],
   "metadata": {
    "id": "GYVqN9uP1D4n"
   }
  },
  {
   "cell_type": "markdown",
   "source": [
    "9. Створити список двома різними за синтаксисом способами. За допомогою вбудованої функції обчисліть довжину одного з них."
   ],
   "metadata": {
    "id": "7-DeDunw2sO-"
   }
  },
  {
   "cell_type": "code",
   "source": [
    "first_list = [1, 2, 3, 4]\n",
    "second_list = list(range(10))\n",
    "\n",
    "print(len(first_list))"
   ],
   "metadata": {
    "id": "zxg06Uuxdyoh",
    "ExecuteTime": {
     "end_time": "2024-03-31T14:57:55.900672Z",
     "start_time": "2024-03-31T14:57:55.892441Z"
    }
   },
   "execution_count": 21,
   "outputs": [
    {
     "name": "stdout",
     "output_type": "stream",
     "text": [
      "4\n"
     ]
    }
   ]
  },
  {
   "cell_type": "markdown",
   "source": [
    "10. Створіть два списка та за допомогою спеціального методу додайте другий з них в якості останнього елемента першого."
   ],
   "metadata": {
    "id": "8vmGUTjL22gI"
   }
  },
  {
   "cell_type": "code",
   "source": [
    "list_1 = [1, 2, 3, 4]\n",
    "list_2 = [5, 6, 7, 8]\n",
    "list_1.extend([list_2])\n",
    "\n",
    "print(list_1)"
   ],
   "metadata": {
    "id": "uHtjWYw7d7hm",
    "ExecuteTime": {
     "end_time": "2024-03-31T15:00:57.115901Z",
     "start_time": "2024-03-31T15:00:57.100463Z"
    }
   },
   "execution_count": 22,
   "outputs": [
    {
     "name": "stdout",
     "output_type": "stream",
     "text": [
      "[1, 2, 3, 4, [5, 6, 7, 8]]\n"
     ]
    }
   ]
  },
  {
   "cell_type": "markdown",
   "source": [
    "11. Створіть список, де елементами цього списку також є списки. Отримай перший елемент з останнього рядка та виведи значення на екран."
   ],
   "metadata": {
    "id": "JC3BkD-67_--"
   }
  },
  {
   "cell_type": "code",
   "source": [
    "matrix = [\n",
    "    [1, 2, 3],\n",
    "    [4, 5, 6],\n",
    "    [7, 8, 9]\n",
    "]\n",
    "print(matrix[-1][0])"
   ],
   "metadata": {
    "id": "Kz2jZHsGeLlz",
    "ExecuteTime": {
     "end_time": "2024-03-31T15:02:23.903682Z",
     "start_time": "2024-03-31T15:02:23.898491Z"
    }
   },
   "execution_count": 23,
   "outputs": [
    {
     "name": "stdout",
     "output_type": "stream",
     "text": [
      "7\n"
     ]
    }
   ]
  },
  {
   "cell_type": "markdown",
   "source": [
    "12. Створіть список з десяти елементів різного типу. Отримайте всі елементи, окрім двох перших та двох останніх та збережіть їх в новій змінній."
   ],
   "metadata": {
    "id": "JA47PKTv8zFK"
   }
  },
  {
   "cell_type": "code",
   "source": [
    "random_list = [1, 2.0, '3', [4, 0], (5, 0), {\"six\": 0}, None, {8, 0, 1}, type(9), \"10\"]\n",
    "filtered_list = random_list[2:-2]\n",
    "\n",
    "print(filtered_list)"
   ],
   "metadata": {
    "id": "_rHdUR-ueP4-",
    "ExecuteTime": {
     "end_time": "2024-03-31T15:21:22.897884Z",
     "start_time": "2024-03-31T15:21:22.891186Z"
    }
   },
   "execution_count": 30,
   "outputs": [
    {
     "name": "stdout",
     "output_type": "stream",
     "text": [
      "['3', [4, 0], (5, 0), {'six': 0}, None, {8, 0, 1}]\n"
     ]
    }
   ]
  },
  {
   "cell_type": "markdown",
   "source": [
    "# V. Робота з кортежами."
   ],
   "metadata": {
    "id": "pCjR1dJb1Qbi"
   }
  },
  {
   "cell_type": "markdown",
   "source": [
    "14. Створити кортеж з один елементом."
   ],
   "metadata": {
    "id": "fAZCxAX06R_k"
   }
  },
  {
   "cell_type": "code",
   "source": [
    "single_element_tuple = (1)\n",
    "print(single_element_tuple)"
   ],
   "metadata": {
    "id": "H7d82WkQev3e",
    "ExecuteTime": {
     "end_time": "2024-03-31T15:21:24.537851Z",
     "start_time": "2024-03-31T15:21:24.532897Z"
    }
   },
   "execution_count": 31,
   "outputs": [
    {
     "name": "stdout",
     "output_type": "stream",
     "text": [
      "1\n"
     ]
    }
   ]
  },
  {
   "cell_type": "markdown",
   "source": [
    "15. Порівняйте список та кортеж. Назвіть схожості та відмінності, випадки використання."
   ],
   "metadata": {
    "id": "8LCtYcmI6w1M"
   }
  },
  {
   "cell_type": "markdown",
   "source": [
    "Similarities:\n",
    "- Both a list and a tuple are ordered collections. This means that the elements are stored in a specific order and can be accessed using their indexes.\n",
    "- Both types of data can be iterated over, that is, you can iterate over their elements using a loop or other iterative methods.\n",
    "- Both lists and tuples can contain elements of any data type, including other lists, tuples, or any other objects.\n",
    "\n",
    "Differences:*\n",
    "- A list is a mutable data type, which means that it can be modified after it is created: elements can be added, deleted, or changed. A tuple, on the other hand, is non-mutable, meaning that it cannot be modified after creation.\n",
    "- A list is created using square brackets [] and a tuple is created using parentheses ().\n",
    "- Generally, tuples have better performance than lists because they are non-mutable.\n",
    "\n",
    "Use cases:\n",
    "- Lists used where data variability is required, for example, to store a sequence of items that may change over time.\n",
    "- Tuples typically used to store static data that should not change. They are useful when you need to guarantee the immutability of data, for example, as keys in a dictionary, or as parameters for functions where they should not be changed during the execution of the function."
   ],
   "metadata": {
    "id": "fUsN1Hnue0C6"
   }
  },
  {
   "cell_type": "markdown",
   "source": [
    "16. Створіть кортеж з 11ти елементів чисел з рухомою комою та отримайте кожен парний за індексом елемент в зворотньому порядку. Наприклад, маючи (1.2, 2.3, 3.3, 4.3, 5.3, 6.3, 7.3, 8.3, 9.3, 0.3), отримати (0.3, 8.3, 6.3, 4.3, 2.3). Результат збережіть в нову змінну та виведіть на екран."
   ],
   "metadata": {
    "id": "m0xrwFijAmDD"
   }
  },
  {
   "cell_type": "code",
   "source": [
    "float_tuple = (1.0, 1.1, 1.2, 1.3, 1.4, 1.5, 1.6, 1.7, 1.8, 1.9, 1.10, 1.11)\n",
    "filtered_tuple = float_tuple[::-2]\n",
    "\n",
    "print(filtered_tuple)"
   ],
   "metadata": {
    "id": "p-5DAH6XfAGA",
    "ExecuteTime": {
     "end_time": "2024-03-31T15:21:49.869060Z",
     "start_time": "2024-03-31T15:21:49.863155Z"
    }
   },
   "execution_count": 33,
   "outputs": [
    {
     "name": "stdout",
     "output_type": "stream",
     "text": [
      "(1.11, 1.9, 1.7, 1.5, 1.3, 1.1)\n"
     ]
    }
   ]
  },
  {
   "cell_type": "markdown",
   "source": [
    "# VI. Множини (Set)."
   ],
   "metadata": {
    "id": "rW_I9dt3x6cW"
   }
  },
  {
   "cell_type": "markdown",
   "source": [
    "17. Створити множину без елементів. Після цого за допомогою методу додайте кілька різних елементів до множини. Чи множини є змінним типом даних?"
   ],
   "metadata": {
    "id": "zNjRLHLw1Bgg"
   }
  },
  {
   "cell_type": "code",
   "source": [
    "empty_set = set()\n",
    "empty_set.add(1)\n",
    "empty_set.add(True)\n",
    "empty_set.add(3.0)\n",
    "\n",
    "print(empty_set)"
   ],
   "metadata": {
    "id": "KOv7zc2Kfo4N",
    "ExecuteTime": {
     "end_time": "2024-03-31T15:23:54.249945Z",
     "start_time": "2024-03-31T15:23:54.244114Z"
    }
   },
   "execution_count": 34,
   "outputs": [
    {
     "name": "stdout",
     "output_type": "stream",
     "text": [
      "{1, 3.0}\n"
     ]
    }
   ]
  },
  {
   "cell_type": "markdown",
   "source": [
    "Sets are a variable data type."
   ],
   "metadata": {
    "id": "vxS6dVYiftZQ"
   }
  },
  {
   "cell_type": "markdown",
   "source": [
    "18. Створити множину, маючи список my_list = [1, 1, 2, 67, 67, 8, 9]. Пояснити, чому \"зникли\" деякі елементи."
   ],
   "metadata": {
    "id": "gHpT0Zw_1HEF"
   }
  },
  {
   "cell_type": "code",
   "source": [
    "my_list = [1, 1, 2, 67, 67, 8, 9]\n",
    "set_from_list = set(my_list)\n",
    "\n",
    "print(set_from_list)"
   ],
   "metadata": {
    "id": "qCN4uvJ_fxmu",
    "ExecuteTime": {
     "end_time": "2024-03-31T15:25:00.319470Z",
     "start_time": "2024-03-31T15:25:00.314664Z"
    }
   },
   "execution_count": 35,
   "outputs": [
    {
     "name": "stdout",
     "output_type": "stream",
     "text": [
      "{1, 2, 67, 8, 9}\n"
     ]
    }
   ]
  },
  {
   "cell_type": "markdown",
   "source": [
    "Some elements \"disappeared\" because they were identical, and the set contains only unique elements."
   ],
   "metadata": {
    "id": "tFNc1e20fyny"
   }
  },
  {
   "cell_type": "markdown",
   "source": [
    "19. Створіть дві множини. Продемонстуйте над ними операції: обʼєднання, різниці, пересічі та симетричної різниці. Використовуйте методи, що не змінюють множини, а створюють нові."
   ],
   "metadata": {
    "id": "SRMkGizS1UwY"
   }
  },
  {
   "cell_type": "code",
   "source": [
    "first_set = {1, 2, 3, 4}\n",
    "second_set = {3, 4, 5, 6}\n",
    "\n",
    "union_set = first_set.union(second_set)\n",
    "intersection_set = first_set.intersection(second_set)\n",
    "difference_set = first_set.difference(second_set)\n",
    "symmetric_difference_set = first_set.symmetric_difference(second_set)\n",
    "\n",
    "print(\"Union = \", union_set)\n",
    "print(\"Intersection = \", intersection_set)\n",
    "print(\"Difference = \", difference_set)\n",
    "print(\"Symmetric difference = \", symmetric_difference_set)"
   ],
   "metadata": {
    "id": "h0T-VuDnf3Ri",
    "ExecuteTime": {
     "end_time": "2024-03-31T16:00:19.852843Z",
     "start_time": "2024-03-31T16:00:19.848861Z"
    }
   },
   "execution_count": 37,
   "outputs": [
    {
     "name": "stdout",
     "output_type": "stream",
     "text": [
      "Union =  {1, 2, 3, 4, 5, 6}\n",
      "Intersection =  {3, 4}\n",
      "Difference =  {1, 2}\n",
      "Symmetric difference =  {1, 2, 5, 6}\n"
     ]
    }
   ]
  },
  {
   "cell_type": "markdown",
   "source": [
    "# VII. Словники (Dictionary)."
   ],
   "metadata": {
    "id": "kWc8gkzTx7Ea"
   }
  },
  {
   "cell_type": "markdown",
   "source": [
    "20. Створіть пустий словник. До нього додайте чотири пари елементів такі, щоб їхні ключі були різних типів. Чи може список бути ключем? Чому?"
   ],
   "metadata": {
    "id": "i5FLwj-B2ybQ"
   }
  },
  {
   "cell_type": "code",
   "source": [
    "empty_dict = dict()\n",
    "empty_dict[\"one\"] = 1\n",
    "empty_dict[2] = 2\n",
    "empty_dict[3.0] = 3.0\n",
    "empty_dict[True] = True\n",
    "\n",
    "print(empty_dict)"
   ],
   "metadata": {
    "id": "hxgv3BzrgLAV",
    "ExecuteTime": {
     "end_time": "2024-03-31T16:10:00.319638Z",
     "start_time": "2024-03-31T16:10:00.314944Z"
    }
   },
   "execution_count": 41,
   "outputs": [
    {
     "name": "stdout",
     "output_type": "stream",
     "text": [
      "{'one': 1, 2: 2, 3.0: 3.0, True: True}\n"
     ]
    }
   ]
  },
  {
   "cell_type": "markdown",
   "source": [
    "A list cannot be a key because it is not hashable."
   ],
   "metadata": {
    "id": "zwa7UVN-gR3m"
   }
  },
  {
   "cell_type": "markdown",
   "source": [
    "21. Створіть словник, де значенням в одній з пар теж буде словник, який теж має вкладений словник. Виведіть на екран значення, що міститься в словнику, що знаходиться на найнижчому рівні ієрархії вкладеності (найбільш внутрішній)."
   ],
   "metadata": {
    "id": "WM_pMlJsgoNf"
   }
  },
  {
   "cell_type": "code",
   "source": [
    "dictionary = {\n",
    "    \"outer\": {\n",
    "        \"two\": 2,\n",
    "        \"three\": 3,\n",
    "        \"inner\": {\"one\": 1},\n",
    "    }\n",
    "}\n",
    "\n",
    "print(dictionary[\"outer\"][\"inner\"][\"one\"])"
   ],
   "metadata": {
    "id": "60dlP7IHhAy4",
    "ExecuteTime": {
     "end_time": "2024-03-31T16:18:04.394545Z",
     "start_time": "2024-03-31T16:18:04.388709Z"
    }
   },
   "execution_count": 44,
   "outputs": [
    {
     "name": "stdout",
     "output_type": "stream",
     "text": [
      "1\n"
     ]
    }
   ]
  },
  {
   "cell_type": "markdown",
   "source": [
    "# Вітаю! Ви велика(ий) молодець, що впоралась(вся). Похваліть себе та побалуйте чимось приємним. Я Вами пишаюся."
   ],
   "metadata": {
    "id": "xOZP0hkx6cCr"
   }
  }
 ]
}
